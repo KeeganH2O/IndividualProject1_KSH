{
  "nbformat": 4,
  "nbformat_minor": 0,
  "metadata": {
    "colab": {
      "provenance": [],
      "collapsed_sections": []
    },
    "kernelspec": {
      "name": "python3",
      "display_name": "Python 3"
    },
    "language_info": {
      "name": "python"
    }
  },
  "cells": [
    {
      "cell_type": "code",
      "execution_count": 164,
      "metadata": {
        "id": "eY6J0JasIkJW"
      },
      "outputs": [],
      "source": [
        "import pandas as pd\n",
        "import matplotlib.pyplot as plt\n",
        "import seaborn as sns\n",
        "import numpy as np"
      ]
    },
    {
      "cell_type": "markdown",
      "source": [
        "####Importing Data set (types of driving)"
      ],
      "metadata": {
        "id": "uVkcT9voK-sq"
      }
    },
    {
      "cell_type": "code",
      "source": [
        "data = pd.read_csv(\"/content/drive/MyDrive/Colab Notebooks/Assignments/Individual Project 1/Data/Combined Set.csv\")"
      ],
      "metadata": {
        "id": "xIl59dqeI15M"
      },
      "execution_count": 143,
      "outputs": []
    },
    {
      "cell_type": "markdown",
      "source": [
        "Large affect if dropping time"
      ],
      "metadata": {
        "id": "IsrSiZ0Xw1pO"
      }
    },
    {
      "cell_type": "code",
      "source": [
        "#data = data.drop(\"Timestamp\", axis = 1)"
      ],
      "metadata": {
        "id": "tEzSe-t8uSWJ"
      },
      "execution_count": 144,
      "outputs": []
    },
    {
      "cell_type": "code",
      "source": [
        "import time\n",
        "\n",
        "seconds = 3583789\n",
        "\n",
        "convert = time.strftime(\"%H:%M:%S\", time.gmtime(seconds))\n",
        "\n",
        "print(convert)"
      ],
      "metadata": {
        "colab": {
          "base_uri": "https://localhost:8080/"
        },
        "id": "Nyi2LryQvxD0",
        "outputId": "0fe09bf2-1ba1-4209-97b2-687da23bb522"
      },
      "execution_count": 145,
      "outputs": [
        {
          "output_type": "stream",
          "name": "stdout",
          "text": [
            "11:29:49\n"
          ]
        }
      ]
    },
    {
      "cell_type": "code",
      "source": [
        "sns.distplot(data['Timestamp']) "
      ],
      "metadata": {
        "colab": {
          "base_uri": "https://localhost:8080/",
          "height": 362
        },
        "id": "2QC0pK8LvBbb",
        "outputId": "056acae5-bc1d-4521-8457-875becab7974"
      },
      "execution_count": 146,
      "outputs": [
        {
          "output_type": "stream",
          "name": "stderr",
          "text": [
            "/usr/local/lib/python3.7/dist-packages/seaborn/distributions.py:2619: FutureWarning: `distplot` is a deprecated function and will be removed in a future version. Please adapt your code to use either `displot` (a figure-level function with similar flexibility) or `histplot` (an axes-level function for histograms).\n",
            "  warnings.warn(msg, FutureWarning)\n"
          ]
        },
        {
          "output_type": "execute_result",
          "data": {
            "text/plain": [
              "<matplotlib.axes._subplots.AxesSubplot at 0x7f72e9a84290>"
            ]
          },
          "metadata": {},
          "execution_count": 146
        },
        {
          "output_type": "display_data",
          "data": {
            "text/plain": [
              "<Figure size 432x288 with 1 Axes>"
            ],
            "image/png": "[encoded data removed]"
          },
          "metadata": {
            "needs_background": "light"
          }
        }
      ]
    },
    {
      "cell_type": "markdown",
      "source": [
        "##Cleaning"
      ],
      "metadata": {
        "id": "WbWTpo7iLjVg"
      }
    },
    {
      "cell_type": "markdown",
      "source": [
        "Counts are relativly even, therefore no need for stratification"
      ],
      "metadata": {
        "id": "H2HKOY3EMgH_"
      }
    },
    {
      "cell_type": "code",
      "source": [
        "data[\"Class\"].value_counts()"
      ],
      "metadata": {
        "colab": {
          "base_uri": "https://localhost:8080/"
        },
        "id": "yx1vD7vyL8wN",
        "outputId": "7a61e53f-6e80-4561-d134-945c8df93694"
      },
      "execution_count": 147,
      "outputs": [
        {
          "output_type": "execute_result",
          "data": {
            "text/plain": [
              "SLOW          2604\n",
              "NORMAL        2197\n",
              "AGGRESSIVE    1927\n",
              "Name: Class, dtype: int64"
            ]
          },
          "metadata": {},
          "execution_count": 147
        }
      ]
    },
    {
      "cell_type": "markdown",
      "source": [
        "Checking type and null values"
      ],
      "metadata": {
        "id": "7iDYqhoIMdZi"
      }
    },
    {
      "cell_type": "code",
      "source": [
        "data.info()"
      ],
      "metadata": {
        "colab": {
          "base_uri": "https://localhost:8080/"
        },
        "id": "z0tIaqh5Mc5S",
        "outputId": "09e33008-9a55-4e00-f6a6-6b13ab2b4e46"
      },
      "execution_count": 148,
      "outputs": [
        {
          "output_type": "stream",
          "name": "stdout",
          "text": [
            "<class 'pandas.core.frame.DataFrame'>\n",
            "RangeIndex: 6728 entries, 0 to 6727\n",
            "Data columns (total 8 columns):\n",
            " #   Column     Non-Null Count  Dtype  \n",
            "---  ------     --------------  -----  \n",
            " 0   AccX       6728 non-null   float64\n",
            " 1   AccY       6728 non-null   float64\n",
            " 2   AccZ       6728 non-null   float64\n",
            " 3   GyroX      6728 non-null   float64\n",
            " 4   GyroY      6728 non-null   float64\n",
            " 5   GyroZ      6728 non-null   float64\n",
            " 6   Class      6728 non-null   object \n",
            " 7   Timestamp  6728 non-null   int64  \n",
            "dtypes: float64(6), int64(1), object(1)\n",
            "memory usage: 420.6+ KB\n"
          ]
        }
      ]
    },
    {
      "cell_type": "markdown",
      "source": [
        "No null values and one object value so need to address that"
      ],
      "metadata": {
        "id": "IU1v3MrBMsen"
      }
    },
    {
      "cell_type": "markdown",
      "source": [
        "Due to Class being Slow, Normal, Aggressive, it has order and therefore needs ordinal encoding."
      ],
      "metadata": {
        "id": "CY0NfbpKOqi1"
      }
    },
    {
      "cell_type": "markdown",
      "source": [
        "DONT NEED TO ENCODE FOR CLASSIFIER PROBLEMS"
      ],
      "metadata": {
        "id": "ZTmggc14QP43"
      }
    },
    {
      "cell_type": "code",
      "source": [
        "from sklearn.preprocessing import OrdinalEncoder\n",
        "encoder = OrdinalEncoder()"
      ],
      "metadata": {
        "id": "Dx5UODLMM82w"
      },
      "execution_count": 149,
      "outputs": []
    },
    {
      "cell_type": "code",
      "source": [
        "data['Class'] = encoder.fit_transform(data[['Class']])"
      ],
      "metadata": {
        "id": "E4ARgeRhOz0u"
      },
      "execution_count": 150,
      "outputs": []
    },
    {
      "cell_type": "code",
      "source": [
        "data['Class'].value_counts()"
      ],
      "metadata": {
        "id": "u9JblyNPPAUa",
        "colab": {
          "base_uri": "https://localhost:8080/"
        },
        "outputId": "29374035-9658-487a-f9ee-3bb9f82fe810"
      },
      "execution_count": 151,
      "outputs": [
        {
          "output_type": "execute_result",
          "data": {
            "text/plain": [
              "2.0    2604\n",
              "1.0    2197\n",
              "0.0    1927\n",
              "Name: Class, dtype: int64"
            ]
          },
          "metadata": {},
          "execution_count": 151
        }
      ]
    },
    {
      "cell_type": "markdown",
      "source": [
        "##Classification"
      ],
      "metadata": {
        "id": "3RtHmDUcLmIG"
      }
    },
    {
      "cell_type": "markdown",
      "source": [
        "Finding the best out of:\n",
        "Logistic Regression/ SVC/ DT/ RF"
      ],
      "metadata": {
        "id": "tHhSk4IHRZvR"
      }
    },
    {
      "cell_type": "markdown",
      "source": [
        "using: Voting Classifier"
      ],
      "metadata": {
        "id": "Of1KJ7D8RuAo"
      }
    },
    {
      "cell_type": "markdown",
      "source": [
        "###Training"
      ],
      "metadata": {
        "id": "PgrwjTZNLo4A"
      }
    },
    {
      "cell_type": "code",
      "source": [
        "from sklearn.model_selection import train_test_split\n",
        "X = data.drop(\"Class\", axis = 1)\n",
        "y = data.Class"
      ],
      "metadata": {
        "id": "X4LLR4GsLrhH"
      },
      "execution_count": 152,
      "outputs": []
    },
    {
      "cell_type": "code",
      "source": [
        "X_train, X_test, y_train, y_test = train_test_split(X, y, test_size= 0.1, random_state = 42)"
      ],
      "metadata": {
        "id": "yhbjQqkLQoWK"
      },
      "execution_count": 153,
      "outputs": []
    },
    {
      "cell_type": "markdown",
      "source": [
        "##Voting Classifier"
      ],
      "metadata": {
        "id": "8oYujIw4S3Jg"
      }
    },
    {
      "cell_type": "code",
      "source": [
        "from sklearn.linear_model import LogisticRegression\n",
        "from sklearn.ensemble import VotingClassifier, RandomForestClassifier\n",
        "from sklearn.tree import DecisionTreeClassifier\n",
        "from sklearn.svm import SVC"
      ],
      "metadata": {
        "id": "z7m0Bl36SJem"
      },
      "execution_count": 154,
      "outputs": []
    },
    {
      "cell_type": "markdown",
      "source": [
        "Defining classifiers"
      ],
      "metadata": {
        "id": "lTagQho8Wbap"
      }
    },
    {
      "cell_type": "code",
      "source": [
        "log_clf = LogisticRegression(\n",
        "                             max_iter = 10000)\n",
        "\n",
        "rf_clf = RandomForestClassifier()\n",
        "\n",
        "dt_clf_gini = DecisionTreeClassifier(criterion = 'gini',\n",
        "                                  max_depth = 5,\n",
        "                                  random_state = 0)\n",
        "\n",
        "svm_clf = SVC(gamma = 'auto', probability = True)"
      ],
      "metadata": {
        "id": "76pzTiBRTMhX"
      },
      "execution_count": 155,
      "outputs": []
    },
    {
      "cell_type": "markdown",
      "source": [
        "Defining actual function"
      ],
      "metadata": {
        "id": "esa-QIk7Wdv-"
      }
    },
    {
      "cell_type": "code",
      "source": [
        "voting_clf = VotingClassifier(\n",
        "    estimators = [(\"Logistic Regression\", log_clf),\n",
        "                  (\"Random Forest Classifier\", rf_clf),\n",
        "                  (\"Decision Tree Classifier\", dt_clf_gini),\n",
        "                  (\"Support Vector Classifier\", svm_clf)],\n",
        "    voting = 'soft'\n",
        ")"
      ],
      "metadata": {
        "id": "cl-yD0fAWZGD"
      },
      "execution_count": 156,
      "outputs": []
    },
    {
      "cell_type": "code",
      "source": [
        "voting_clf.fit(X_train,y_train)"
      ],
      "metadata": {
        "colab": {
          "base_uri": "https://localhost:8080/"
        },
        "id": "iNKOx6YBXAtN",
        "outputId": "d56d9bbd-dce6-4543-cc6f-e65c432bf01d"
      },
      "execution_count": 157,
      "outputs": [
        {
          "output_type": "execute_result",
          "data": {
            "text/plain": [
              "VotingClassifier(estimators=[('Logistic Regression',\n",
              "                              LogisticRegression(max_iter=10000)),\n",
              "                             ('Random Forest Classifier',\n",
              "                              RandomForestClassifier()),\n",
              "                             ('Decision Tree Classifier',\n",
              "                              DecisionTreeClassifier(max_depth=5,\n",
              "                                                     random_state=0)),\n",
              "                             ('Support Vector Classifier',\n",
              "                              SVC(gamma='auto', probability=True))],\n",
              "                 voting='soft')"
            ]
          },
          "metadata": {},
          "execution_count": 157
        }
      ]
    },
    {
      "cell_type": "code",
      "source": [
        "from sklearn.metrics import accuracy_score\n",
        "\n",
        "for clf in(log_clf, rf_clf, svm_clf,dt_clf_gini, voting_clf):\n",
        "  clf.fit(X_train,y_train)\n",
        "  y_pred = clf.predict(X_test)\n",
        "  print(clf.__class__.__name__, accuracy_score(y_test,y_pred))"
      ],
      "metadata": {
        "colab": {
          "base_uri": "https://localhost:8080/"
        },
        "id": "aDVgDNXWXcxI",
        "outputId": "2b6cc72b-53c8-417b-cdce-dfd036488190"
      },
      "execution_count": 158,
      "outputs": [
        {
          "output_type": "stream",
          "name": "stdout",
          "text": [
            "LogisticRegression 0.37592867756315007\n",
            "RandomForestClassifier 0.9970282317979198\n",
            "SVC 1.0\n",
            "DecisionTreeClassifier 1.0\n",
            "VotingClassifier 1.0\n"
          ]
        }
      ]
    },
    {
      "cell_type": "markdown",
      "source": [
        "##Confusion Matrix"
      ],
      "metadata": {
        "id": "lLhFgsw2y351"
      }
    },
    {
      "cell_type": "code",
      "source": [
        "y_pred = voting_clf.predict(X_test)"
      ],
      "metadata": {
        "id": "lHyhKukcXhj7"
      },
      "execution_count": 159,
      "outputs": []
    },
    {
      "cell_type": "code",
      "source": [
        "from sklearn.metrics import confusion_matrix, classification_report\n",
        "print(confusion_matrix(y_test,y_pred))\n",
        "print(classification_report(y_test,y_pred))"
      ],
      "metadata": {
        "colab": {
          "base_uri": "https://localhost:8080/"
        },
        "id": "-PienvTky9sN",
        "outputId": "5418fffb-0d14-4921-b0fd-4b223f6d805c"
      },
      "execution_count": 160,
      "outputs": [
        {
          "output_type": "stream",
          "name": "stdout",
          "text": [
            "[[203   0   0]\n",
            " [  0 217   0]\n",
            " [  0   0 253]]\n",
            "              precision    recall  f1-score   support\n",
            "\n",
            "         0.0       1.00      1.00      1.00       203\n",
            "         1.0       1.00      1.00      1.00       217\n",
            "         2.0       1.00      1.00      1.00       253\n",
            "\n",
            "    accuracy                           1.00       673\n",
            "   macro avg       1.00      1.00      1.00       673\n",
            "weighted avg       1.00      1.00      1.00       673\n",
            "\n"
          ]
        }
      ]
    },
    {
      "cell_type": "code",
      "source": [
        "print(classification_report(y_test,y_pred))"
      ],
      "metadata": {
        "colab": {
          "base_uri": "https://localhost:8080/"
        },
        "id": "dP4wkJVAzB_Z",
        "outputId": "7771eead-b555-4bac-bf5b-f241b15cdb45"
      },
      "execution_count": 161,
      "outputs": [
        {
          "output_type": "stream",
          "name": "stdout",
          "text": [
            "              precision    recall  f1-score   support\n",
            "\n",
            "         0.0       1.00      1.00      1.00       203\n",
            "         1.0       1.00      1.00      1.00       217\n",
            "         2.0       1.00      1.00      1.00       253\n",
            "\n",
            "    accuracy                           1.00       673\n",
            "   macro avg       1.00      1.00      1.00       673\n",
            "weighted avg       1.00      1.00      1.00       673\n",
            "\n"
          ]
        }
      ]
    }
  ]
}